{
 "cells": [
  {
   "cell_type": "code",
   "execution_count": 1,
   "id": "1a144e09",
   "metadata": {},
   "outputs": [],
   "source": [
    "import pandas as pd\n",
    "import numpy as np\n",
    "import random\n",
    "from preprocess import preprocess_data\n",
    "from model.chained import ChainedModel\n"
   ]
  },
  {
   "cell_type": "code",
   "execution_count": 2,
   "id": "944ab190",
   "metadata": {},
   "outputs": [
    {
     "name": "stdout",
     "output_type": "stream",
     "text": [
      "Sample predictions (Type 2, 3, 4):\n",
      "[(0, 7, 14), (1, 0, 3), (1, 0, 3), (1, 0, 2), (1, 0, 2)]\n"
     ]
    }
   ],
   "source": [
    "\n",
    "# Set seed\n",
    "seed = 0\n",
    "random.seed(seed)\n",
    "np.random.seed(seed)\n",
    "\n",
    "if __name__ == '__main__':\n",
    "    # Load dataset\n",
    "    df = pd.read_csv(\"/Users/ahadshaikh/Desktop/CA_EEAS/email-multilabel-classifier/data/AppGallery.csv\", skipinitialspace=True)\n",
    "    df.columns = df.columns.str.strip()\n",
    "\n",
    "    # Check necessary columns\n",
    "    assert \"Interaction content\" in df.columns, \"Column 'Interaction content' missing\"\n",
    "    assert \"Type 2\" in df.columns, \"Column 'Type 2' missing\"\n",
    "    assert \"Type 3\" in df.columns, \"Column 'Type 3' missing\"\n",
    "    assert \"Type 4\" in df.columns, \"Column 'Type 4' missing\"\n",
    "\n",
    "    # Preprocess\n",
    "    X_vec, y2, y3, y4, vectorizer, le2, le3, le4 = preprocess_data(df)\n",
    "\n",
    "    # Train model\n",
    "    model = ChainedModel()\n",
    "    model.fit(X_vec, y2, y3, y4)\n",
    "\n",
    "    # Predict\n",
    "    y2_pred, y3_pred, y4_pred = model.predict(X_vec)\n",
    "    print(\"Sample predictions (Type 2, 3, 4):\")\n",
    "    print(list(zip(y2_pred[:5], y3_pred[:5], y4_pred[:5])))\n"
   ]
  },
  {
   "cell_type": "code",
   "execution_count": null,
   "id": "52623886",
   "metadata": {},
   "outputs": [],
   "source": []
  }
 ],
 "metadata": {
  "kernelspec": {
   "display_name": "base",
   "language": "python",
   "name": "python3"
  },
  "language_info": {
   "codemirror_mode": {
    "name": "ipython",
    "version": 3
   },
   "file_extension": ".py",
   "mimetype": "text/x-python",
   "name": "python",
   "nbconvert_exporter": "python",
   "pygments_lexer": "ipython3",
   "version": "3.12.7"
  }
 },
 "nbformat": 4,
 "nbformat_minor": 5
}

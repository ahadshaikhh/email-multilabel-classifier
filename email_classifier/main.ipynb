{
 "cells": [
  {
   "cell_type": "code",
   "execution_count": 1,
   "id": "1a144e09",
   "metadata": {},
   "outputs": [
    {
     "ename": "SyntaxError",
     "evalue": "invalid non-printable character U+00A0 (1669060876.py, line 11)",
     "output_type": "error",
     "traceback": [
      "\u001b[1;36m  Cell \u001b[1;32mIn[1], line 11\u001b[1;36m\u001b[0m\n\u001b[1;33m    import numpy as np\u001b[0m\n\u001b[1;37m          ^\u001b[0m\n\u001b[1;31mSyntaxError\u001b[0m\u001b[1;31m:\u001b[0m invalid non-printable character U+00A0\n"
     ]
    }
   ],
   "source": [
    "import pandas as pd\n",
    "import numpy as np\n",
    "import random\n",
    "from preprocess import preprocess_data\n",
    "from model.chained import ChainedModel\n",
    "import random\n",
    "import numpy as np\n",
    "from preprocess import get_input_data, preprocess_data\n",
    "from sklearn.model_selection import train_test_split\n",
    "from sklearn.metrics import classification_report\n",
    "import numpy as np"
   ]
  },
  {
   "cell_type": "code",
   "execution_count": null,
   "id": "dd150f9c",
   "metadata": {},
   "outputs": [],
   "source": [
    "# Set seed\n",
    "seed = 0\n",
    "random.seed(seed)\n",
    "np.random.seed(seed)\n",
    "\n",
    "if _name_ == '_main_':\n",
    "    # Load merged dataset\n",
    "    df = get_input_data()\n",
    "\n",
    "    # Preprocess\n",
    "    X_vec, y2, y3, y4, vectorizer, le2, le3, le4 = preprocess_data(df)\n",
    "\n",
    "    # Train-test split\n",
    "    X_train, X_test, y2_train, y2_test, y3_train, y3_test, y4_train, y4_test = train_test_split(\n",
    "        X_vec, y2, y3, y4, test_size=0.2, random_state=seed)\n",
    "\n",
    "    # Train model\n",
    "    model = ChainedModel()\n",
    "    model.fit(X_train, y2_train, y3_train, y4_train)\n",
    "\n",
    "    # Predict on test\n",
    "    y2_pred, y3_pred, y4_pred = model.predict(X_test)\n",
    "\n",
    "    # Decode predictions (optional for clarity)\n",
    "    y2_test_decoded = le2.inverse_transform(y2_test)\n",
    "    y3_test_decoded = le3.inverse_transform(y3_test)\n",
    "    y4_test_decoded = le4.inverse_transform(y4_test)\n",
    "\n",
    "    y2_pred_decoded = le2.inverse_transform(y2_pred)\n",
    "    y3_pred_decoded = le3.inverse_transform(y3_pred)\n",
    "    y4_pred_decoded = le4.inverse_transform(y4_pred)\n",
    "\n",
    "    # Evaluation\n",
    "    print(\"\\n[Evaluation] Type 2 Report:\\n\", classification_report(y2_test, y2_pred,zero_division=0))\n",
    "    print(\"[Evaluation] Type 3 Report:\\n\", classification_report(y3_test, y3_pred,zero_division=0))\n",
    "    print(\"[Evaluation] Type 4 Report:\\n\", classification_report(y4_test, y4_pred,zero_division=0))\n"
   ]
  },
  {
   "cell_type": "code",
   "execution_count": 12,
   "id": "944ab190",
   "metadata": {},
   "outputs": [
    {
     "ename": "SyntaxError",
     "evalue": "(unicode error) 'unicodeescape' codec can't decode bytes in position 2-3: truncated \\UXXXXXXXX escape (3568944054.py, line 13)",
     "output_type": "error",
     "traceback": [
      "\u001b[1;36m  Cell \u001b[1;32mIn[12], line 13\u001b[1;36m\u001b[0m\n\u001b[1;33m    df = pd.read_csv(\"C:\\Users\\hamza\\email-multilabel-classifier\\data\\AppGallery.csv\", skipinitialspace=True)\u001b[0m\n\u001b[1;37m                     ^\u001b[0m\n\u001b[1;31mSyntaxError\u001b[0m\u001b[1;31m:\u001b[0m (unicode error) 'unicodeescape' codec can't decode bytes in position 2-3: truncated \\UXXXXXXXX escape\n"
     ]
    }
   ],
   "source": [
    "\n",
    "# Set seed\n",
    "import random\n",
    "\n",
    "import numpy as np\n",
    "import pandas as pd\n",
    "\n",
    "\n",
    "seed = 0\n",
    "random.seed(seed)\n",
    "np.random.seed(seed)\n",
    "\n",
    "if __name__ == '__main__':\n",
    "    df = pd.read_csv(\"C:\\Users\\hamza\\email-multilabel-classifier\\data\\AppGallery.csv\", skipinitialspace=True)\n",
    "    df.columns = df.columns.str.strip()\n",
    "\n",
    "    # Check necessary columns\n",
    "    assert \"Interaction content\" in df.columns, \"Column 'Interaction content' missing\"\n",
    "    assert \"Type 2\" in df.columns, \"Column 'Type 2' missing\"\n",
    "    assert \"Type 3\" in df.columns, \"Column 'Type 3' missing\"\n",
    "    assert \"Type 4\" in df.columns, \"Column 'Type 4' missing\"\n",
    "\n",
    "    # Preprocess\n",
    "    X_vec, y2, y3, y4, vectorizer, le2, le3, le4 = preprocess_data(df)\n",
    "\n",
    "    # Train model\n",
    "    model = ChainedModel()\n",
    "    model.fit(X_vec, y2, y3, y4)\n",
    "\n",
    "    # Predict\n",
    "    y2_pred, y3_pred, y4_pred = model.predict(X_vec)\n",
    "    print(\"Sample predictions (Type 2, 3, 4):\")\n",
    "    print(list(zip(y2_pred[:5], y3_pred[:5], y4_pred[:5])))\n"
   ]
  }
 ],
 "metadata": {
  "kernelspec": {
   "display_name": "base",
   "language": "python",
   "name": "python3"
  },
  "language_info": {
   "codemirror_mode": {
    "name": "ipython",
    "version": 3
   },
   "file_extension": ".py",
   "mimetype": "text/x-python",
   "name": "python",
   "nbconvert_exporter": "python",
   "pygments_lexer": "ipython3",
   "version": "3.12.3"
  }
 },
 "nbformat": 4,
 "nbformat_minor": 5
}
